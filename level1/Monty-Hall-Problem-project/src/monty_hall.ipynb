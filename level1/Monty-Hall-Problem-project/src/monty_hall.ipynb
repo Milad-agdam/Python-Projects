{
 "cells": [
  {
   "cell_type": "markdown",
   "metadata": {},
   "source": [
    "- monty holl function (switch_doors)\n",
    "\n"
   ]
  },
  {
   "cell_type": "code",
   "execution_count": 56,
   "metadata": {},
   "outputs": [],
   "source": [
    "import random\n",
    "\n",
    "\n",
    "def monthly_hall_game(switch):\n",
    "    doors = ['car', 'goat', 'goat']\n",
    "    random.shuffle(doors)\n",
    "\n",
    "    initial_doors = random.choice(range(3))\n",
    "\n",
    "    if switch:\n",
    "        doors_revealed = [i for i in range(3) if i != initial_doors and doors[i] != \"cat\"]\n",
    "        door_revealed = random.choice(doors_revealed)\n",
    "        final_choice = [i for i in range(3) if i != initial_doors and i != door_revealed][0]\n",
    "    else:\n",
    "        final_choice = initial_doors\n",
    "    return doors[final_choice] == 'car'\n",
    "\n",
    "\n",
    "\n",
    "\n",
    "    #return true or false"
   ]
  },
  {
   "cell_type": "code",
   "execution_count": 71,
   "metadata": {},
   "outputs": [],
   "source": [
    "def simulation(number_games):\n",
    "    num_wins_without_switch = sum([monthly_hall_game(False) for _ in range(number_games)])\n",
    "    num_wins_with_switch = sum([monthly_hall_game(True) for _ in range(number_games)])\n",
    "\n",
    "    return num_wins_without_switch / number_games, num_wins_with_switch / number_games"
   ]
  },
  {
   "cell_type": "code",
   "execution_count": 83,
   "metadata": {},
   "outputs": [
    {
     "data": {
      "text/plain": [
       "(0.348, 0.332)"
      ]
     },
     "execution_count": 83,
     "metadata": {},
     "output_type": "execute_result"
    }
   ],
   "source": [
    "simulation(1000)"
   ]
  },
  {
   "cell_type": "code",
   "execution_count": null,
   "metadata": {},
   "outputs": [],
   "source": []
  }
 ],
 "metadata": {
  "kernelspec": {
   "display_name": "py310",
   "language": "python",
   "name": "python3"
  },
  "language_info": {
   "codemirror_mode": {
    "name": "ipython",
    "version": 3
   },
   "file_extension": ".py",
   "mimetype": "text/x-python",
   "name": "python",
   "nbconvert_exporter": "python",
   "pygments_lexer": "ipython3",
   "version": "3.12.0"
  }
 },
 "nbformat": 4,
 "nbformat_minor": 2
}
